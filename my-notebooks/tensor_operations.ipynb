{
 "cells": [
  {
   "cell_type": "code",
   "execution_count": 57,
   "metadata": {},
   "outputs": [
    {
     "name": "stdout",
     "output_type": "stream",
     "text": [
      "2.3.0+cu121\n"
     ]
    }
   ],
   "source": [
    "import torch;\n",
    "print(torch.__version__);"
   ]
  },
  {
   "cell_type": "markdown",
   "metadata": {},
   "source": [
    "#### Mathematical Operations"
   ]
  },
  {
   "cell_type": "code",
   "execution_count": 58,
   "metadata": {},
   "outputs": [
    {
     "name": "stdout",
     "output_type": "stream",
     "text": [
      "tensor([[ 5, 12, 10],\n",
      "        [ 2,  4,  6]])\n",
      "tensor([[0, 0, 0],\n",
      "        [1, 0, 0]])\n"
     ]
    },
    {
     "data": {
      "text/plain": [
       "tensor([[100, 576, 400],\n",
       "        [ 25,  64, 144]])"
      ]
     },
     "execution_count": 58,
     "metadata": {},
     "output_type": "execute_result"
    }
   ],
   "source": [
    "source = torch.tensor([\n",
    "    [10, 24, 20],\n",
    "    [5, 8, 12]\n",
    "]);\n",
    "\n",
    "# print(source.dtype);\n",
    "# print(source + 2);\n",
    "\n",
    "# in place addition\n",
    "# print(source.add_(2));\n",
    "# print(source)\n",
    "\n",
    "# print(source - 2);\n",
    "# print(source * 2);\n",
    "# print((source / 2).to(torch.int64));\n",
    "\n",
    "# integer division\n",
    "print(source // 2);\n",
    "# mod\n",
    "print(source % 2);\n",
    "# power\n",
    "source ** 2"
   ]
  },
  {
   "cell_type": "markdown",
   "metadata": {},
   "source": [
    "#### Element Wise Matrix Operations"
   ]
  },
  {
   "cell_type": "code",
   "execution_count": 59,
   "metadata": {},
   "outputs": [
    {
     "name": "stdout",
     "output_type": "stream",
     "text": [
      "tensor([[225.0000, 205.0000, 180.0000],\n",
      "        [150.0000, 212.5000,  96.0000]])\n",
      "tensor([[0., 0., 1.],\n",
      "        [2., 0., 1.]])\n",
      "tensor([[ 4.5000, 10.2500,  3.0000],\n",
      "        [ 5.0000,  8.5000,  4.0000]])\n",
      "tensor([[4.5775e+32, 1.6386e+20, 1.2975e+14],\n",
      "        [5.7243e+09, 1.7198e+23, 4.2998e+08]])\n",
      "tensor([[  1.5000,  -2.3000,   2.5000,   4.7000],\n",
      "        [  4.6000,   7.6000,   8.2000, -10.6000]])\n",
      "tensor([[3.0000, 3.0000, 3.0000, 4.7000],\n",
      "        [4.6000, 7.0000, 7.0000, 3.0000]])\n"
     ]
    }
   ],
   "source": [
    "a = torch.tensor([\n",
    "    [4.5, 10.25, 15],\n",
    "    [20, 8.5, 12]\n",
    "]);\n",
    "b = torch.tensor([\n",
    "    [50, 20, 12],\n",
    "    [7.5, 25, 8]\n",
    "]);\n",
    "\n",
    "# print(a.shape, b.shape); 2x3 matrix\n",
    "# print((a + b).to(torch.int64));\n",
    "\n",
    "# in place addition\n",
    "# print(a.add_(b));\n",
    "# print(a);\n",
    "\n",
    "# print(a / b);\n",
    "print(a * b);\n",
    "print(a // b);\n",
    "print(a % b);\n",
    "print(a ** b);\n",
    "\n",
    "c = torch.tensor([1, -2, 3, -4]);\n",
    "d = torch.tensor([\n",
    "    [1.5, -2.3, 2.5, 4.7],\n",
    "    [4.6, 7.56, 8.2, -10.6]\n",
    "]);\n",
    "# print(torch.abs(c));\n",
    "# print(torch.neg(c));\n",
    "print(torch.round(d, decimals=1));\n",
    "# print(torch.ceil(d));\n",
    "# print(torch.floor(d));\n",
    "print(torch.clamp(d, min=3, max=7));\n"
   ]
  },
  {
   "cell_type": "markdown",
   "metadata": {},
   "source": [
    "#### Reduction Operations"
   ]
  },
  {
   "cell_type": "code",
   "execution_count": 60,
   "metadata": {},
   "outputs": [
    {
     "name": "stdout",
     "output_type": "stream",
     "text": [
      "tensor(44.0000)\n",
      "tensor([[ 2.2727, -0.3182],\n",
      "        [-0.0909,  0.0227]])\n"
     ]
    }
   ],
   "source": [
    "e = torch.tensor([\n",
    "    [1, 14, 9],\n",
    "    [4, 100, 20]\n",
    "]);\n",
    "\n",
    "# sum of tensor\n",
    "# print(torch.sum(e));\n",
    "# sum along columns only\n",
    "# print(torch.sum(e, dim=0, keepdim=True));\n",
    "# sum along rows only\n",
    "# print(torch.sum(e, dim=1, keepdim=True));\n",
    "\n",
    "# print(torch.mean(e, dtype=torch.float32, dim=0, keepdim=True));\n",
    "# print(torch.median(e));\n",
    "# print(torch.mode(e, dim=0, keepdim=True).values);\n",
    "# Standard deviation\n",
    "# print(torch.std(e.to(torch.float32)));\n",
    "# Variance\n",
    "# print(torch.var(e.to(torch.float32)));\n",
    "\n",
    "# Determinant\n",
    "print(torch.det(e[:, 0:2].to(torch.float32)));\n",
    "\n",
    "# Inverse\n",
    "print(torch.inverse(e[:, 0:2].to(torch.float32)));\n",
    "\n",
    "# Logarithm\n",
    "# print(torch.log(e)); # Natural log\n",
    "# print(torch.log10(e)); # Log with base 10\n",
    "\n",
    "# Exponential\n",
    "# print(torch.exp(e)); # Exponential of Euler's number (e)\n",
    "# print(torch.exp2(e));\n",
    "\n",
    "# Square root\n",
    "# print(torch.sqrt(e));\n",
    "\n",
    "# Sigmoid\n",
    "# print(torch.sigmoid(e));\n",
    "\n",
    "# Softmax - Rescales elements along a dimension to make the sum as 1.\n",
    "smax = torch.softmax(e, 0, dtype=torch.float32);\n",
    "# print(torch.sum(smax, 0));\n",
    "# print(smax);\n",
    "\n",
    "# relu - sets all negative numbers to 0. \n",
    "rel = torch.tensor([\n",
    "    [-1, 2, 5.5],\n",
    "    [0.2, 0, -2.5]\n",
    "]);\n",
    "# print(torch.relu(rel));\n"
   ]
  },
  {
   "cell_type": "code",
   "execution_count": 61,
   "metadata": {},
   "outputs": [
    {
     "name": "stdout",
     "output_type": "stream",
     "text": [
      "tensor(100)\n",
      "tensor(1)\n",
      "tensor(4)\n",
      "tensor(0)\n",
      "tensor(1008000)\n"
     ]
    }
   ],
   "source": [
    "print(torch.max(e));\n",
    "print(torch.min(e));\n",
    "print(torch.argmax(e));\n",
    "print(torch.argmin(e));\n",
    "print(torch.prod(e));"
   ]
  },
  {
   "cell_type": "markdown",
   "metadata": {},
   "source": [
    "#### Matrix Operations"
   ]
  },
  {
   "cell_type": "code",
   "execution_count": 62,
   "metadata": {},
   "outputs": [
    {
     "name": "stdout",
     "output_type": "stream",
     "text": [
      "tensor([[ 723.0000,  286.8750],\n",
      "        [1402.0000,  559.7500]])\n",
      "tensor(44)\n",
      "tensor([[ 4.5000, 20.0000],\n",
      "        [10.2500,  8.5000],\n",
      "        [15.0000, 12.0000]])\n"
     ]
    }
   ],
   "source": [
    "f = torch.tensor([\n",
    "    [4.5, 10.25, 15],\n",
    "    [20, 8.5, 12]\n",
    "]);\n",
    "g = torch.tensor([\n",
    "    [50, 20],\n",
    "    [12, 7.5],\n",
    "    [25, 8]\n",
    "]);\n",
    "\n",
    "# Matrix multiplication\n",
    "print(torch.matmul(f, g));\n",
    "tensor1 = torch.tensor([4, 3]);\n",
    "tensor2 = torch.tensor([\n",
    "    [1, 3, 5, 7],\n",
    "    [2, 4, 6, 8]\n",
    "]);\n",
    "# print(tensor1.shape);print(tensor2.shape);\n",
    "# print(torch.matmul(tensor1, tensor2));\n",
    "\n",
    "# Dot product\n",
    "tsr1 = torch.tensor([2, 4, 6]);\n",
    "tsr2 = torch.tensor([1, 3, 5]);\n",
    "print(torch.dot(tsr1, tsr2));\n",
    "\n",
    "# Transpose matrix\n",
    "print(torch.transpose(f, 0, 1));"
   ]
  },
  {
   "cell_type": "markdown",
   "metadata": {},
   "source": [
    "#### Comparison Operations"
   ]
  },
  {
   "cell_type": "code",
   "execution_count": 63,
   "metadata": {},
   "outputs": [
    {
     "name": "stdout",
     "output_type": "stream",
     "text": [
      "tensor([[False, False, False],\n",
      "        [ True, False, False]])\n",
      "tensor([[ True,  True,  True],\n",
      "        [False,  True,  True]])\n"
     ]
    }
   ],
   "source": [
    "h = torch.tensor([\n",
    "    [10, 55, 60],\n",
    "    [25, 5, 4]\n",
    "]);\n",
    "i = torch.tensor([\n",
    "    [23, 45, 50],\n",
    "    [25, 7, 10]\n",
    "]);\n",
    "\n",
    "# print(h > i);\n",
    "# print(h >= i);\n",
    "# print(h < i);\n",
    "print(h == i);\n",
    "print(h != i);\n"
   ]
  }
 ],
 "metadata": {
  "kernelspec": {
   "display_name": "Python 3 (ipykernel)",
   "language": "python",
   "name": "python3"
  },
  "language_info": {
   "codemirror_mode": {
    "name": "ipython",
    "version": 3
   },
   "file_extension": ".py",
   "mimetype": "text/x-python",
   "name": "python",
   "nbconvert_exporter": "python",
   "pygments_lexer": "ipython3",
   "version": "3.10.16"
  }
 },
 "nbformat": 4,
 "nbformat_minor": 4
}
