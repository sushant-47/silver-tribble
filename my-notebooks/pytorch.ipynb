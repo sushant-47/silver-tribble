{
 "cells": [
  {
   "cell_type": "code",
   "execution_count": 1,
   "metadata": {},
   "outputs": [
    {
     "name": "stdout",
     "output_type": "stream",
     "text": [
      "2.3.0+cu121\n"
     ]
    }
   ],
   "source": [
    "import torch;\n",
    "print(torch.__version__);"
   ]
  },
  {
   "cell_type": "code",
   "execution_count": 2,
   "metadata": {},
   "outputs": [
    {
     "name": "stdout",
     "output_type": "stream",
     "text": [
      "GPU not available\n"
     ]
    }
   ],
   "source": [
    "if torch.cuda.is_available():\n",
    "    print('GPU is available!')\n",
    "else:\n",
    "    print('GPU not available')"
   ]
  },
  {
   "cell_type": "code",
   "execution_count": 3,
   "metadata": {},
   "outputs": [
    {
     "name": "stdout",
     "output_type": "stream",
     "text": [
      "tensor([[4.2039e-45, 4.2039e-45, 5.6052e-45, 1.2612e-44, 0.0000e+00],\n",
      "        [0.0000e+00, 0.0000e+00, 0.0000e+00, 1.4854e-43, 4.2039e-45]])\n",
      "tensor(4.2039e-45)\n",
      "tensor([[4.2039e-45, 4.2039e-45],\n",
      "        [0.0000e+00, 0.0000e+00]])\n",
      "140307577247680\n"
     ]
    }
   ],
   "source": [
    "### create tensors having empty, 0, 1 or random values\n",
    "tensor = torch.zeros(4);\n",
    "a = torch.empty(2, 5);\n",
    "r = torch.rand(2, 3)\n",
    "print(a);\n",
    "print(a[0][1]);\n",
    "\n",
    "print(a[:, 0:2]) # creates tensor with all rows and first 2 columns of `e`.\n",
    "print(id(a)); # view memory address of a tensor"
   ]
  },
  {
   "cell_type": "code",
   "execution_count": 4,
   "metadata": {},
   "outputs": [
    {
     "name": "stdout",
     "output_type": "stream",
     "text": [
      "tensor([[0.6256, 0.4304, 0.3596],\n",
      "        [0.5186, 0.0569, 0.6557]])\n"
     ]
    }
   ],
   "source": [
    "# ** create tensors with random numbers from a seed **\n",
    "seed = torch.manual_seed(350);\n",
    "random_seed = torch.rand(2, 3);\n",
    "\n",
    "print(random_seed);"
   ]
  },
  {
   "cell_type": "code",
   "execution_count": 5,
   "metadata": {},
   "outputs": [
    {
     "name": "stdout",
     "output_type": "stream",
     "text": [
      "tensor([[2, 3],\n",
      "        [4, 5]], dtype=torch.int32)\n",
      "tensor([[4, 4, 4, 4],\n",
      "        [4, 4, 4, 4],\n",
      "        [4, 4, 4, 4]])\n",
      "tensor([2, 5])\n",
      "tensor([[1, 0, 0, 0],\n",
      "        [0, 1, 0, 0],\n",
      "        [0, 0, 1, 0],\n",
      "        [0, 0, 0, 1]], dtype=torch.int32)\n",
      "tensor([ 1.0000,  2.2857,  3.5714,  4.8571,  6.1429,  7.4286,  8.7143, 10.0000])\n"
     ]
    }
   ],
   "source": [
    "# ** create tensors that already have values/shape, are in a range, make a identity matrix, are linearly distributed\n",
    "filled_tsr = torch.tensor([[2.7,3], [4.55,5]], dtype=torch.int32);\n",
    "fixed_tsr = torch.full(size=[3, 4], fill_value=4);\n",
    "ranged_tsr = torch.arange(2, 8, 3);\n",
    "identity_matrix_tsr = torch.eye(4, dtype=torch.int32);\n",
    "linear_tsr = torch.linspace(1, 10, 8, dtype=torch.float32);\n",
    "\n",
    "print(filled_tsr);\n",
    "print(fixed_tsr);\n",
    "print(ranged_tsr);\n",
    "print(identity_matrix_tsr);\n",
    "print(linear_tsr);\n"
   ]
  },
  {
   "cell_type": "markdown",
   "metadata": {},
   "source": [
    "$$linspace(a, b, s) = [\\sum \\limits _{n=0}^{s-1} (a+n*\\frac{b-a}{s-1})]$$"
   ]
  },
  {
   "cell_type": "markdown",
   "metadata": {},
   "source": [
    "#### Tensor Shapes"
   ]
  },
  {
   "cell_type": "code",
   "execution_count": 6,
   "metadata": {},
   "outputs": [
    {
     "name": "stdout",
     "output_type": "stream",
     "text": [
      "<class 'torch.Tensor'>\n",
      "torch.Size([3, 4])\n",
      "torch.float32\n",
      "tensor([ 1,  2,  3,  4,  6,  7,  8, 10])\n"
     ]
    },
    {
     "data": {
      "text/plain": [
       "tensor([0.5143, 0.2342, 0.2308, 0.8509, 0.3374, 0.8921, 0.9959, 0.6675])"
      ]
     },
     "execution_count": 6,
     "metadata": {},
     "output_type": "execute_result"
    }
   ],
   "source": [
    "print(type(ranged_tsr));\n",
    "print(fixed_tsr.shape); # python attribute\n",
    "print(linear_tsr.dtype);\n",
    "\n",
    "# convert to int32\n",
    "converted = linear_tsr.to(torch.int64);\n",
    "print(converted);\n",
    "\n",
    "#copy shape\n",
    "torch.rand_like(converted, dtype=torch.float32) # integer tensor cannot be input to rand_like without dtype\n",
    "\n"
   ]
  },
  {
   "cell_type": "markdown",
   "metadata": {},
   "source": [
    "#### Copying Tensors"
   ]
  },
  {
   "cell_type": "code",
   "execution_count": 7,
   "metadata": {},
   "outputs": [
    {
     "name": "stdout",
     "output_type": "stream",
     "text": [
      "True\n",
      "False\n"
     ]
    }
   ],
   "source": [
    "src = torch.tensor([\n",
    "    [2, 3, 5],\n",
    "    [40, 15, 12]\n",
    "]);\n",
    "\n",
    "dst = src; # reference remains same in this copy\n",
    "print(id(src) == id(dst)); # returns boolean `True`\n",
    "\n",
    "# copy with change in reference\n",
    "dst = src.clone();\n",
    "print(id(src) == id(dst)); # returns boolean `False`"
   ]
  }
 ],
 "metadata": {
  "kernelspec": {
   "display_name": "Python 3",
   "language": "python",
   "name": "python3"
  },
  "language_info": {
   "codemirror_mode": {
    "name": "ipython",
    "version": 3
   },
   "file_extension": ".py",
   "mimetype": "text/x-python",
   "name": "python",
   "nbconvert_exporter": "python",
   "pygments_lexer": "ipython3",
   "version": "3.12.1"
  }
 },
 "nbformat": 4,
 "nbformat_minor": 4
}
