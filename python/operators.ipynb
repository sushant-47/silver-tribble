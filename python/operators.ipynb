{
 "cells": [
  {
   "cell_type": "markdown",
   "id": "37494406-ca0d-476c-8c9f-e7f2952402ad",
   "metadata": {
    "editable": true,
    "slideshow": {
     "slide_type": ""
    },
    "tags": []
   },
   "source": [
    "### Operators in Python\n",
    "\n",
    "1. Arithmetic Operators\n",
    "2. Comparison Operators\n",
    "3. Logical Operators\n",
    "4. Bitwise Operators\n",
    "5. Assignment Operators\n",
    "6. Identity Operators\n",
    "7. Membership Operators\n",
    "\n",
    "> Bitwise Operation:\n",
    "```python\n",
    "a = 2 = 010\n",
    "b = 3 = 011\n",
    "bitwise AND (&) = a & b = 010 = 2\n",
    "bitwise OR (|) = a | b = 011 = 3\n",
    "\n",
    "right-shift (>>) = b >> 1 = 001 = 1\n",
    "```\n",
    "\n",
    "> Assignment Operation: Postfix and Prefix expressions are not allowed in Python.\n",
    "\n",
    "> Identity Operator: Checks if two variables are in same memory location or not."
   ]
  },
  {
   "cell_type": "code",
   "execution_count": 18,
   "id": "c2bc6ecf-4b28-4da2-aac1-219900a68a91",
   "metadata": {},
   "outputs": [
    {
     "name": "stdout",
     "output_type": "stream",
     "text": [
      "5.9\n",
      "3.1\n",
      "6.3\n",
      "3.2142857142857144\n",
      "0.30000000000000027\n",
      "8.212918615558277\n",
      "3.0\n"
     ]
    }
   ],
   "source": [
    "# Arithmetic Operators\n",
    "\n",
    "x = 4.5;\n",
    "y = 2;\n",
    "\n",
    "print(x + y);\n",
    "print(x - y);\n",
    "print(x * y);\n",
    "print(x / y);\n",
    "print(x % y);\n",
    "print(x ** y);\n",
    "print(x // y); # Integer division"
   ]
  },
  {
   "cell_type": "code",
   "execution_count": 19,
   "id": "25e10880-99a4-4fe0-8c08-94130740e5a8",
   "metadata": {},
   "outputs": [
    {
     "name": "stdout",
     "output_type": "stream",
     "text": [
      "True\n",
      "False\n",
      "True\n",
      "False\n",
      "False\n",
      "True\n"
     ]
    }
   ],
   "source": [
    "# Comparison Operators\n",
    "\n",
    "print(x > y);\n",
    "print(x < y);\n",
    "print(x >= y);\n",
    "print(x <= y);\n",
    "print(x == y);\n",
    "print(x != y);"
   ]
  },
  {
   "cell_type": "code",
   "execution_count": 44,
   "id": "b63ec17d-4366-4257-90db-12d861b7122e",
   "metadata": {},
   "outputs": [
    {
     "name": "stdout",
     "output_type": "stream",
     "text": [
      "True\n",
      "False\n",
      "False\n",
      "True\n"
     ]
    }
   ],
   "source": [
    "# Logical Operators\n",
    "\n",
    "a = True;\n",
    "b = False;\n",
    "\n",
    "print(a or b);\n",
    "print(a and b);\n",
    "print(not a);\n",
    "print(not a or not b);"
   ]
  },
  {
   "cell_type": "code",
   "execution_count": 62,
   "id": "1dc74f82-82b3-4620-a7b0-fde978499ce2",
   "metadata": {},
   "outputs": [
    {
     "name": "stdout",
     "output_type": "stream",
     "text": [
      "3\n",
      "11\n",
      "5\n",
      "24\n",
      "-12\n"
     ]
    }
   ],
   "source": [
    "# Bitwise Operators\n",
    "\n",
    "num1 = 3;\n",
    "num2 = 11;\n",
    "\n",
    "print(num1 & num2); # bitwise and -  convert each to binary form and then perform AND operation bitwise.\n",
    "print(num1 | num2); # bitwise or\n",
    "print(num2 >> 1); # Right shift by 1 `1011` = 0101 = 5\n",
    "print(num1 << 3); # Left shift by 3 `11` = 11000 = 24\n",
    "print(~num2); # complement of `1011` = 1100 = 12*-1 = -12 - perform biwise addition by adding 1 to rightmost bit."
   ]
  },
  {
   "cell_type": "code",
   "execution_count": 64,
   "id": "87bd1069-a011-4bd8-864a-5f7b40bb0c6f",
   "metadata": {},
   "outputs": [
    {
     "name": "stdout",
     "output_type": "stream",
     "text": [
      "3\n"
     ]
    }
   ],
   "source": [
    "# Assignment Operator\n",
    "\n",
    "var1 = 'some';\n",
    "num3 = 10;\n",
    "num3 += 1;\n",
    "num3 &= 3;\n",
    "print(num3);"
   ]
  },
  {
   "cell_type": "code",
   "execution_count": 75,
   "id": "158e7484-5419-4a57-a11f-f85c997ac90c",
   "metadata": {},
   "outputs": [
    {
     "name": "stdout",
     "output_type": "stream",
     "text": [
      "False\n",
      "True\n",
      "137740307385264 137740183162288 False\n"
     ]
    }
   ],
   "source": [
    "# Identity Operator\n",
    "\n",
    "a = \"hello\";\n",
    "b = \"hello`\";\n",
    "\n",
    "print(a is b);\n",
    "print(a is not b);\n",
    "print(id(a), id(b), id(a) == id(b));"
   ]
  },
  {
   "cell_type": "code",
   "execution_count": 80,
   "id": "0ed3cfee-af24-4f05-a4ea-330452598dbe",
   "metadata": {
    "editable": true,
    "slideshow": {
     "slide_type": ""
    },
    "tags": []
   },
   "outputs": [
    {
     "name": "stdout",
     "output_type": "stream",
     "text": [
      "False\n",
      "True\n",
      "False\n",
      "True\n",
      "True\n"
     ]
    }
   ],
   "source": [
    "# Membership Operator\n",
    "\n",
    "l = [4, 5, 10];\n",
    "str = 'Hello';\n",
    "\n",
    "print(1 in l);\n",
    "print(10 in l);\n",
    "print('h' in str);\n",
    "print('H' in str);\n",
    "print('j' not in str);"
   ]
  },
  {
   "cell_type": "code",
   "execution_count": null,
   "id": "6c88449f-3a98-43ca-bd01-2f66015b843c",
   "metadata": {
    "editable": true,
    "slideshow": {
     "slide_type": ""
    },
    "tags": []
   },
   "outputs": [],
   "source": []
  }
 ],
 "metadata": {
  "kernelspec": {
   "display_name": "Python 3 (ipykernel)",
   "language": "python",
   "name": "python3"
  },
  "language_info": {
   "codemirror_mode": {
    "name": "ipython",
    "version": 3
   },
   "file_extension": ".py",
   "mimetype": "text/x-python",
   "name": "python",
   "nbconvert_exporter": "python",
   "pygments_lexer": "ipython3",
   "version": "3.10.16"
  }
 },
 "nbformat": 4,
 "nbformat_minor": 5
}
