{
 "cells": [
  {
   "cell_type": "code",
   "execution_count": 2,
   "id": "98631e21-a260-418c-802c-927f1f099f0f",
   "metadata": {},
   "outputs": [
    {
     "name": "stdout",
     "output_type": "stream",
     "text": [
      "fdsaf dsaf\n"
     ]
    }
   ],
   "source": [
    "print(\"fdsaf\", \"dsaf\")"
   ]
  },
  {
   "cell_type": "code",
   "execution_count": 8,
   "id": "d64f50ad-8155-4ace-8595-edf0460fd308",
   "metadata": {},
   "outputs": [
    {
     "name": "stdout",
     "output_type": "stream",
     "text": [
      "abcdef\n"
     ]
    }
   ],
   "source": [
    "# print in line without spaces\n",
    "print('abc', 'def', sep='');"
   ]
  },
  {
   "cell_type": "code",
   "execution_count": null,
   "id": "fdc59484-4276-49f0-8c4c-abc9fa258f23",
   "metadata": {},
   "outputs": [],
   "source": []
  }
 ],
 "metadata": {
  "kernelspec": {
   "display_name": "Python 3 (ipykernel)",
   "language": "python",
   "name": "python3"
  },
  "language_info": {
   "codemirror_mode": {
    "name": "ipython",
    "version": 3
   },
   "file_extension": ".py",
   "mimetype": "text/x-python",
   "name": "python",
   "nbconvert_exporter": "python",
   "pygments_lexer": "ipython3",
   "version": "3.10.16"
  }
 },
 "nbformat": 4,
 "nbformat_minor": 5
}
