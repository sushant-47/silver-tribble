{
 "cells": [
  {
   "cell_type": "markdown",
   "id": "1231bf9e-526a-417d-94d0-4e2ebb154641",
   "metadata": {},
   "source": [
    "#### Basic types\n",
    "1. Integer\n",
    "2. Float\n",
    "3. Complex\n",
    "4. Boolean\n",
    "5. String\n",
    "\n",
    "#### Container types\n",
    "1. List\n",
    "2. Tuples\n",
    "3. Sets\n",
    "4. Dictionary\n",
    "\n",
    "#### User-Defined types\n",
    "- Class"
   ]
  },
  {
   "cell_type": "code",
   "execution_count": 17,
   "id": "2431ce06-50af-4337-a069-e737f6f1c17b",
   "metadata": {},
   "outputs": [
    {
     "name": "stdout",
     "output_type": "stream",
     "text": [
      "1000.0\n"
     ]
    }
   ],
   "source": [
    "### Integer\n",
    "# Max - 1e308\n",
    "print(f\"{1e3}\");"
   ]
  },
  {
   "cell_type": "code",
   "execution_count": 18,
   "id": "3010a224-bee8-41ad-b1cb-f1c689c69e63",
   "metadata": {},
   "outputs": [
    {
     "name": "stdout",
     "output_type": "stream",
     "text": [
      "1700.0\n"
     ]
    }
   ],
   "source": [
    "### Float\n",
    "# Max - 1.7e308\n",
    "print(f\"{1.7e3}\");"
   ]
  },
  {
   "cell_type": "code",
   "execution_count": 19,
   "id": "a74f84ae-79b6-415a-bb6d-ab3588ae7503",
   "metadata": {},
   "outputs": [
    {
     "name": "stdout",
     "output_type": "stream",
     "text": [
      "True\n"
     ]
    }
   ],
   "source": [
    "### Boolean\n",
    "print(True);"
   ]
  },
  {
   "cell_type": "code",
   "execution_count": 22,
   "id": "155670df-d05e-4b84-992f-570cdaa187ee",
   "metadata": {},
   "outputs": [
    {
     "name": "stdout",
     "output_type": "stream",
     "text": [
      "(3+4j)\n"
     ]
    }
   ],
   "source": [
    "### Complex\n",
    "print(f\"{3 + 4j}\");"
   ]
  },
  {
   "cell_type": "code",
   "execution_count": 23,
   "id": "d8c4d569-b286-4623-bdb8-51a393bf329b",
   "metadata": {},
   "outputs": [
    {
     "name": "stdout",
     "output_type": "stream",
     "text": [
      "abcd\n"
     ]
    }
   ],
   "source": [
    "### String\n",
    "print(\"abcd\");"
   ]
  },
  {
   "cell_type": "code",
   "execution_count": 28,
   "id": "ee23fbea-dd3f-4b69-88da-ea24c9021395",
   "metadata": {},
   "outputs": [
    {
     "name": "stdout",
     "output_type": "stream",
     "text": [
      "[1, 2, 3, 3, 4]\n"
     ]
    }
   ],
   "source": [
    "### List\n",
    "list = [1, 2, 3, 3, 4];\n",
    "print(list);"
   ]
  },
  {
   "cell_type": "code",
   "execution_count": 27,
   "id": "1c2ecbb0-bf3a-4530-a981-9c383a90e470",
   "metadata": {},
   "outputs": [
    {
     "name": "stdout",
     "output_type": "stream",
     "text": [
      "(1, 2, 3, 3, 4, 5)\n"
     ]
    }
   ],
   "source": [
    "### Tuple\n",
    "tuple = (1, 2, 3, 3, 4, 5);\n",
    "print(tuple);"
   ]
  },
  {
   "cell_type": "code",
   "execution_count": 26,
   "id": "19a02d0e-5950-48fe-b9aa-a6fa090aa6a1",
   "metadata": {},
   "outputs": [
    {
     "name": "stdout",
     "output_type": "stream",
     "text": [
      "{1, 3, 4, 5}\n"
     ]
    }
   ],
   "source": [
    "### Set\n",
    "set = {1, 3, 4, 4, 5};\n",
    "print(set);"
   ]
  },
  {
   "cell_type": "code",
   "execution_count": 35,
   "id": "47efb020-1169-4e93-90cb-eec263fa52c5",
   "metadata": {},
   "outputs": [
    {
     "name": "stdout",
     "output_type": "stream",
     "text": [
      "{'name': 'aa', 'age': 35}\n"
     ]
    }
   ],
   "source": [
    "### Dictionary\n",
    "dict = {\n",
    "    'name': 'aa',\n",
    "    'age': 35,\n",
    "};\n",
    "print(dict);"
   ]
  },
  {
   "cell_type": "code",
   "execution_count": null,
   "id": "956e181c-2afa-42bc-aa08-85f61ac699ce",
   "metadata": {},
   "outputs": [],
   "source": []
  }
 ],
 "metadata": {
  "kernelspec": {
   "display_name": "Python 3 (ipykernel)",
   "language": "python",
   "name": "python3"
  },
  "language_info": {
   "codemirror_mode": {
    "name": "ipython",
    "version": 3
   },
   "file_extension": ".py",
   "mimetype": "text/x-python",
   "name": "python",
   "nbconvert_exporter": "python",
   "pygments_lexer": "ipython3",
   "version": "3.10.16"
  }
 },
 "nbformat": 4,
 "nbformat_minor": 5
}
