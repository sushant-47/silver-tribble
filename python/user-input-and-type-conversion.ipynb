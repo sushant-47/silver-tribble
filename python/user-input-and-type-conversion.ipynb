{
 "cells": [
  {
   "cell_type": "code",
   "execution_count": 5,
   "id": "e044fc7a-d9ff-4fc3-b9c1-99398d2bc652",
   "metadata": {},
   "outputs": [
    {
     "name": "stdin",
     "output_type": "stream",
     "text": [
      "Enter first number 12\n",
      "Enter second number 23\n"
     ]
    },
    {
     "name": "stdout",
     "output_type": "stream",
     "text": [
      "<class 'str'>\n",
      "1223\n"
     ]
    }
   ],
   "source": [
    "# Take input from user\n",
    "num1 = input(\"Enter first number\");\n",
    "num2 = input(\"Enter second number\");\n",
    "\n",
    "print(type(num1));\n",
    "print(num1 + num2);"
   ]
  },
  {
   "cell_type": "code",
   "execution_count": 4,
   "id": "33497649-ebba-47a9-936b-9c61d1a7f6ca",
   "metadata": {},
   "outputs": [
    {
     "name": "stdout",
     "output_type": "stream",
     "text": [
      "False\n"
     ]
    }
   ],
   "source": [
    "print(type(num1) == 'str');"
   ]
  },
  {
   "cell_type": "code",
   "execution_count": 7,
   "id": "bdfc7549-bbec-4e9c-a709-c48928e90aeb",
   "metadata": {},
   "outputs": [
    {
     "name": "stdout",
     "output_type": "stream",
     "text": [
      "<class 'float'>\n",
      "9.5\n"
     ]
    }
   ],
   "source": [
    "# Type Conversion\n",
    "# Type conversion can only happen between compatible types.\n",
    "\n",
    "## Implicit type conversion\n",
    "add = 4 + 5.5;\n",
    "print(type(add));\n",
    "print(add) # Conversion between int and float"
   ]
  },
  {
   "cell_type": "code",
   "execution_count": 16,
   "id": "39ff27f5-7038-43b6-a2a5-923d28c52ce2",
   "metadata": {},
   "outputs": [
    {
     "name": "stdout",
     "output_type": "stream",
     "text": [
      "45\n",
      "<class 'int'>\n",
      "4\n",
      "<class 'int'>\n",
      "['f', 'd', 's']\n"
     ]
    }
   ],
   "source": [
    "## Explicit type conversion using type conversion functions\n",
    "# convert python string integer to python integer\n",
    "print(int('45'));\n",
    "print(type(int('45')));\n",
    "\n",
    "# convert python float to python integer\n",
    "print(int(4.7));\n",
    "print(type(int(4.7)));\n",
    "\n",
    "# float(), str(), bool(), complex()\n",
    "# list(), tuple(), set()"
   ]
  },
  {
   "cell_type": "code",
   "execution_count": 25,
   "id": "6db00c03-bef5-4165-9d5a-55b605949de8",
   "metadata": {},
   "outputs": [
    {
     "name": "stdout",
     "output_type": "stream",
     "text": [
      "{'a', 's', 'l', 'm'}\n"
     ]
    }
   ],
   "source": [
    "print(set('small'))"
   ]
  },
  {
   "cell_type": "code",
   "execution_count": 24,
   "id": "166cbeab-aa5c-44cd-83a3-f4d3760bb470",
   "metadata": {},
   "outputs": [
    {
     "name": "stdout",
     "output_type": "stream",
     "text": [
      "{'ageg': 34}\n"
     ]
    }
   ],
   "source": [
    "print(dict({'age': 34}))"
   ]
  },
  {
   "cell_type": "code",
   "execution_count": 26,
   "id": "1033c6ff-6599-4837-ad85-d6f27609ad4c",
   "metadata": {},
   "outputs": [
    {
     "name": "stdout",
     "output_type": "stream",
     "text": [
      "['s', 'm', 'a', 'l', 'l']\n"
     ]
    }
   ],
   "source": [
    "print(list('small'));"
   ]
  },
  {
   "cell_type": "code",
   "execution_count": 3,
   "id": "70dc901e-beee-47e4-9cc6-0877a0c8d6e4",
   "metadata": {},
   "outputs": [
    {
     "name": "stdout",
     "output_type": "stream",
     "text": [
      "('1', '2', '3', '4')\n"
     ]
    }
   ],
   "source": [
    "print(tuple('1234'));"
   ]
  },
  {
   "cell_type": "code",
   "execution_count": null,
   "id": "2d86be2d-ae40-4604-9bb6-01bc612b81ea",
   "metadata": {},
   "outputs": [],
   "source": []
  }
 ],
 "metadata": {
  "kernelspec": {
   "display_name": "Python 3 (ipykernel)",
   "language": "python",
   "name": "python3"
  },
  "language_info": {
   "codemirror_mode": {
    "name": "ipython",
    "version": 3
   },
   "file_extension": ".py",
   "mimetype": "text/x-python",
   "name": "python",
   "nbconvert_exporter": "python",
   "pygments_lexer": "ipython3",
   "version": "3.10.16"
  }
 },
 "nbformat": 4,
 "nbformat_minor": 5
}
