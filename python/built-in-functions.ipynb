{
 "cells": [
  {
   "cell_type": "code",
   "execution_count": 4,
   "id": "375393aa-4aed-4e9d-930f-0274bca9d88a",
   "metadata": {},
   "outputs": [
    {
     "name": "stdout",
     "output_type": "stream",
     "text": [
      "5.6\n",
      "0\n",
      "1.899\n"
     ]
    }
   ],
   "source": [
    "# abs - modulus\n",
    "\n",
    "print(abs(-5.6));\n",
    "print(abs(0));\n",
    "print(abs(-1.899));"
   ]
  },
  {
   "cell_type": "code",
   "execution_count": 8,
   "id": "f4726521-bce9-41de-9394-f059fff2ed36",
   "metadata": {},
   "outputs": [
    {
     "name": "stdout",
     "output_type": "stream",
     "text": [
      "0.0625\n",
      "27\n"
     ]
    }
   ],
   "source": [
    "# pow - power\n",
    "\n",
    "print(pow(2, -4));\n",
    "print(pow(3, 3));"
   ]
  },
  {
   "cell_type": "code",
   "execution_count": 10,
   "id": "4be4d159-7572-4a99-b4bd-8c6cc68fa50b",
   "metadata": {},
   "outputs": [
    {
     "name": "stdout",
     "output_type": "stream",
     "text": [
      "2\n",
      "w\n",
      "45\n"
     ]
    }
   ],
   "source": [
    "# min/max\n",
    "\n",
    "list1 = [2, 60, 500];\n",
    "str1 = 'world';\n",
    "tuple1 = (45, 67, 89);\n",
    "\n",
    "print(min(list1));\n",
    "print(max(str1)); # min/max by ascii\n",
    "print(min(tuple1));"
   ]
  },
  {
   "cell_type": "code",
   "execution_count": 14,
   "id": "adf7c3c4-1d20-4dd0-8872-66c500b64600",
   "metadata": {},
   "outputs": [
    {
     "name": "stdout",
     "output_type": "stream",
     "text": [
      "3.142857142857143\n",
      "3.143\n",
      "3\n"
     ]
    }
   ],
   "source": [
    "# round\n",
    "\n",
    "print(22/7);\n",
    "print(round(22/7, 3));\n",
    "print(round(22/7));"
   ]
  },
  {
   "cell_type": "code",
   "execution_count": 15,
   "id": "8705b445-4a43-4ce2-85a9-cb9b4a4478d4",
   "metadata": {},
   "outputs": [
    {
     "name": "stdout",
     "output_type": "stream",
     "text": [
      "(3, 1)\n"
     ]
    }
   ],
   "source": [
    "# divmod - returns quotient and remainder as a tuple\n",
    "\n",
    "print(divmod(22, 7));"
   ]
  },
  {
   "cell_type": "code",
   "execution_count": 19,
   "id": "2dcb9705-d94d-474e-816a-ce33dc8ddeb5",
   "metadata": {},
   "outputs": [
    {
     "name": "stdout",
     "output_type": "stream",
     "text": [
      "0b1111101\n",
      "0o175\n",
      "0x7d\n"
     ]
    }
   ],
   "source": [
    "# bin/oct/hex\n",
    "\n",
    "num1 = 125;\n",
    "\n",
    "print(bin(num1));\n",
    "print(oct(num1));\n",
    "print(hex(num1));"
   ]
  },
  {
   "cell_type": "code",
   "execution_count": 21,
   "id": "5a8bc573-cc5a-425a-a52a-80938c1a0e3e",
   "metadata": {},
   "outputs": [
    {
     "name": "stdout",
     "output_type": "stream",
     "text": [
      "97\n",
      "65\n"
     ]
    }
   ],
   "source": [
    "# ord - returns ascii for a character\n",
    "\n",
    "print(ord('a'));\n",
    "print(ord('A'));"
   ]
  },
  {
   "cell_type": "code",
   "execution_count": 27,
   "id": "3dbecd12-3454-4912-a0d6-fc46c7e570c5",
   "metadata": {},
   "outputs": [
    {
     "name": "stdout",
     "output_type": "stream",
     "text": [
      "3\n",
      "3\n"
     ]
    }
   ],
   "source": [
    "# len\n",
    "\n",
    "list2 = [23, 56, 89];\n",
    "set1 = {23, 88, 100};\n",
    "\n",
    "print(len(list2));\n",
    "print(len(set1));"
   ]
  },
  {
   "cell_type": "code",
   "execution_count": 30,
   "id": "659c122d-3b55-4dd6-a646-b750bb11c57c",
   "metadata": {},
   "outputs": [
    {
     "name": "stdout",
     "output_type": "stream",
     "text": [
      "244\n",
      "254\n"
     ]
    }
   ],
   "source": [
    "# sum\n",
    "\n",
    "list3 = [34, 90, 120];\n",
    "\n",
    "print(sum(list3));\n",
    "print(sum(list3, 10));"
   ]
  },
  {
   "cell_type": "code",
   "execution_count": 42,
   "id": "04681b9b-ae8d-4dcd-abb2-61248de79678",
   "metadata": {},
   "outputs": [
    {
     "name": "stdout",
     "output_type": "stream",
     "text": [
      "3\n",
      "Help on class list in module builtins:\n",
      "\n",
      "class list(object)\n",
      " |  list(iterable=(), /)\n",
      " |  \n",
      " |  Built-in mutable sequence.\n",
      " |  \n",
      " |  If no argument is given, the constructor creates a new empty list.\n",
      " |  The argument must be an iterable if specified.\n",
      " |  \n",
      " |  Methods defined here:\n",
      " |  \n",
      " |  __add__(self, value, /)\n",
      " |      Return self+value.\n",
      " |  \n",
      " |  __contains__(self, key, /)\n",
      " |      Return key in self.\n",
      " |  \n",
      " |  __delitem__(self, key, /)\n",
      " |      Delete self[key].\n",
      " |  \n",
      " |  __eq__(self, value, /)\n",
      " |      Return self==value.\n",
      " |  \n",
      " |  __ge__(self, value, /)\n",
      " |      Return self>=value.\n",
      " |  \n",
      " |  __getattribute__(self, name, /)\n",
      " |      Return getattr(self, name).\n",
      " |  \n",
      " |  __getitem__(...)\n",
      " |      x.__getitem__(y) <==> x[y]\n",
      " |  \n",
      " |  __gt__(self, value, /)\n",
      " |      Return self>value.\n",
      " |  \n",
      " |  __iadd__(self, value, /)\n",
      " |      Implement self+=value.\n",
      " |  \n",
      " |  __imul__(self, value, /)\n",
      " |      Implement self*=value.\n",
      " |  \n",
      " |  __init__(self, /, *args, **kwargs)\n",
      " |      Initialize self.  See help(type(self)) for accurate signature.\n",
      " |  \n",
      " |  __iter__(self, /)\n",
      " |      Implement iter(self).\n",
      " |  \n",
      " |  __le__(self, value, /)\n",
      " |      Return self<=value.\n",
      " |  \n",
      " |  __len__(self, /)\n",
      " |      Return len(self).\n",
      " |  \n",
      " |  __lt__(self, value, /)\n",
      " |      Return self<value.\n",
      " |  \n",
      " |  __mul__(self, value, /)\n",
      " |      Return self*value.\n",
      " |  \n",
      " |  __ne__(self, value, /)\n",
      " |      Return self!=value.\n",
      " |  \n",
      " |  __repr__(self, /)\n",
      " |      Return repr(self).\n",
      " |  \n",
      " |  __reversed__(self, /)\n",
      " |      Return a reverse iterator over the list.\n",
      " |  \n",
      " |  __rmul__(self, value, /)\n",
      " |      Return value*self.\n",
      " |  \n",
      " |  __setitem__(self, key, value, /)\n",
      " |      Set self[key] to value.\n",
      " |  \n",
      " |  __sizeof__(self, /)\n",
      " |      Return the size of the list in memory, in bytes.\n",
      " |  \n",
      " |  append(self, object, /)\n",
      " |      Append object to the end of the list.\n",
      " |  \n",
      " |  clear(self, /)\n",
      " |      Remove all items from list.\n",
      " |  \n",
      " |  copy(self, /)\n",
      " |      Return a shallow copy of the list.\n",
      " |  \n",
      " |  count(self, value, /)\n",
      " |      Return number of occurrences of value.\n",
      " |  \n",
      " |  extend(self, iterable, /)\n",
      " |      Extend list by appending elements from the iterable.\n",
      " |  \n",
      " |  index(self, value, start=0, stop=9223372036854775807, /)\n",
      " |      Return first index of value.\n",
      " |      \n",
      " |      Raises ValueError if the value is not present.\n",
      " |  \n",
      " |  insert(self, index, object, /)\n",
      " |      Insert object before index.\n",
      " |  \n",
      " |  pop(self, index=-1, /)\n",
      " |      Remove and return item at index (default last).\n",
      " |      \n",
      " |      Raises IndexError if list is empty or index is out of range.\n",
      " |  \n",
      " |  remove(self, value, /)\n",
      " |      Remove first occurrence of value.\n",
      " |      \n",
      " |      Raises ValueError if the value is not present.\n",
      " |  \n",
      " |  reverse(self, /)\n",
      " |      Reverse *IN PLACE*.\n",
      " |  \n",
      " |  sort(self, /, *, key=None, reverse=False)\n",
      " |      Sort the list in ascending order and return None.\n",
      " |      \n",
      " |      The sort is in-place (i.e. the list itself is modified) and stable (i.e. the\n",
      " |      order of two equal elements is maintained).\n",
      " |      \n",
      " |      If a key function is given, apply it once to each list item and sort them,\n",
      " |      ascending or descending, according to their function values.\n",
      " |      \n",
      " |      The reverse flag can be set to sort in descending order.\n",
      " |  \n",
      " |  ----------------------------------------------------------------------\n",
      " |  Class methods defined here:\n",
      " |  \n",
      " |  __class_getitem__(...) from builtins.type\n",
      " |      See PEP 585\n",
      " |  \n",
      " |  ----------------------------------------------------------------------\n",
      " |  Static methods defined here:\n",
      " |  \n",
      " |  __new__(*args, **kwargs) from builtins.type\n",
      " |      Create and return a new object.  See help(type) for accurate signature.\n",
      " |  \n",
      " |  ----------------------------------------------------------------------\n",
      " |  Data and other attributes defined here:\n",
      " |  \n",
      " |  __hash__ = None\n",
      "\n"
     ]
    }
   ],
   "source": [
    "# help - get help for a function\n",
    "\n",
    "list4 = list([45, 67, 78]);\n",
    "\n",
    "help(list);"
   ]
  },
  {
   "cell_type": "code",
   "execution_count": null,
   "id": "cf5cf16f-6826-43a9-b52b-08a8c11b0807",
   "metadata": {},
   "outputs": [],
   "source": []
  }
 ],
 "metadata": {
  "kernelspec": {
   "display_name": "Python 3 (ipykernel)",
   "language": "python",
   "name": "python3"
  },
  "language_info": {
   "codemirror_mode": {
    "name": "ipython",
    "version": 3
   },
   "file_extension": ".py",
   "mimetype": "text/x-python",
   "name": "python",
   "nbconvert_exporter": "python",
   "pygments_lexer": "ipython3",
   "version": "3.10.16"
  }
 },
 "nbformat": 4,
 "nbformat_minor": 5
}
