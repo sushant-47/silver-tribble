{
 "cells": [
  {
   "cell_type": "markdown",
   "id": "e8cc2bf0-f60f-4ae2-b5b6-dd4b83ba9946",
   "metadata": {},
   "source": [
    "### Control Flow statements\n",
    "1. if-else\n",
    "2. while\n",
    "3. for\n",
    "4. break\n",
    "5. continue\n",
    "6. pass\n",
    "\n",
    "> if-else: if, else, elif\n",
    "\n",
    "> for: for, in\n",
    "\n",
    "> pass: continue executing from next line."
   ]
  },
  {
   "cell_type": "code",
   "execution_count": 25,
   "id": "a51a9cf2-0182-4dd4-ab79-983ae06b8a6f",
   "metadata": {},
   "outputs": [
    {
     "name": "stdin",
     "output_type": "stream",
     "text": [
      "Enter a number less than 50 24\n"
     ]
    },
    {
     "name": "stdout",
     "output_type": "stream",
     "text": [
      "num: 24\n",
      "num: 25\n",
      "num: 26\n",
      "num: 27\n",
      "num: 28\n",
      "num: 29\n",
      "num: 30\n",
      "num: 31\n",
      "num: 32\n",
      "num: 33\n",
      "num: 34\n",
      "num: 35\n",
      "num: 36\n",
      "num: 37\n",
      "num: 38\n",
      "num: 39\n",
      "num: 40\n",
      "num: 41\n",
      "num: 42\n",
      "num: 43\n",
      "num: 44\n",
      "num: 45\n",
      "num: 46\n",
      "num: 47\n",
      "num: 48\n",
      "num: 49\n"
     ]
    }
   ],
   "source": [
    "# while loop\n",
    "\n",
    "num1 = int(input(\"Enter a number less than 50\"));\n",
    "while num1 != 50:\n",
    "    print(\"num:\", num1);\n",
    "    num1 += 1;"
   ]
  },
  {
   "cell_type": "markdown",
   "id": "26265468-03b8-4e0a-b1c5-9f9697da24cb",
   "metadata": {},
   "source": [
    "### Range function - Python builtin"
   ]
  },
  {
   "cell_type": "code",
   "execution_count": 5,
   "id": "c0e1a37d-b574-48ab-afd2-b3496d9df824",
   "metadata": {},
   "outputs": [
    {
     "name": "stdout",
     "output_type": "stream",
     "text": [
      "[0, 1, 2, 3, 4, 5, 6, 7, 8, 9]\n",
      "[1, 2, 3, 4, 5, 6, 7, 8, 9, 10]\n",
      "[1, 3, 5, 7, 9]\n",
      "[10, 9, 8, 7, 6, 5, 4, 3, 2, 1]\n"
     ]
    }
   ],
   "source": [
    "range0 = range(10);\n",
    "range1 = range(1, 11);\n",
    "range2 = range(1, 11, 2);\n",
    "range3 = range(10, 0, -1);  # backward range\n",
    "\n",
    "print(list(range0));\n",
    "print(list(range1));\n",
    "print(list(range2));\n",
    "print(list(range3));"
   ]
  },
  {
   "cell_type": "markdown",
   "id": "91144a73-786c-42b1-9b45-e11abfcf9e8d",
   "metadata": {},
   "source": [
    "### Sequence"
   ]
  },
  {
   "cell_type": "code",
   "execution_count": 10,
   "id": "fff0f8ee-6f72-4291-843d-165f2495102b",
   "metadata": {},
   "outputs": [],
   "source": [
    "# Anything that is iterable\n",
    "\n",
    "str1 = \"world\"; # Sequence of characters\n",
    "list1 = [\"hello\", \"some\", \"world\"]; # Sequence of words"
   ]
  },
  {
   "cell_type": "code",
   "execution_count": 16,
   "id": "6071cfe6-a1d0-4fe7-bf79-d43323674cc4",
   "metadata": {},
   "outputs": [
    {
     "name": "stdout",
     "output_type": "stream",
     "text": [
      "1 2 3 4 5 "
     ]
    }
   ],
   "source": [
    "# for loop\n",
    "\n",
    "# seq = '12345';\n",
    "seq = (1, 2, 3, 4, 5);\n",
    "seq = {1, 2, 3, 4, 5};\n",
    "for i in seq:\n",
    "    print(i, end=' ');"
   ]
  },
  {
   "cell_type": "code",
   "execution_count": 24,
   "id": "49e0eacd-9078-4ba6-941d-3718fe231ffc",
   "metadata": {},
   "outputs": [
    {
     "name": "stdout",
     "output_type": "stream",
     "text": [
      "        *         \n",
      "      * * *       \n",
      "    * * * * *     \n",
      "  * * * * * * *   \n",
      "* * * * * * * * * \n"
     ]
    }
   ],
   "source": [
    "# nested for loop\n",
    "\n",
    "pattern_len = 5;\n",
    "for i in range(1, pattern_len + 1):\n",
    "    for j in range(1, 2 * pattern_len):\n",
    "        print_range = range(pattern_len - (i-1), pattern_len + i);\n",
    "        if (j in print_range):\n",
    "            print(\"*\", end=' ');\n",
    "        else:\n",
    "            print(\" \", end=' ');\n",
    "    print('');"
   ]
  },
  {
   "cell_type": "code",
   "execution_count": null,
   "id": "19ce9f2b-f4f3-4ef0-979f-71993884e7b1",
   "metadata": {},
   "outputs": [],
   "source": []
  }
 ],
 "metadata": {
  "kernelspec": {
   "display_name": "Python 3 (ipykernel)",
   "language": "python",
   "name": "python3"
  },
  "language_info": {
   "codemirror_mode": {
    "name": "ipython",
    "version": 3
   },
   "file_extension": ".py",
   "mimetype": "text/x-python",
   "name": "python",
   "nbconvert_exporter": "python",
   "pygments_lexer": "ipython3",
   "version": "3.10.16"
  }
 },
 "nbformat": 4,
 "nbformat_minor": 5
}
