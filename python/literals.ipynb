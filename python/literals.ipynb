{
 "cells": [
  {
   "cell_type": "markdown",
   "id": "87a163ea-ec8d-4cba-95af-f6398dbde2bd",
   "metadata": {},
   "source": [
    "- Literal is raw data given to a variable in Python. Various types of literals are as follows:\n",
    "1. Numeric Literals\n",
    "2. String Literals\n",
    "3. Boolean Literals\n",
    "4. Special Literals"
   ]
  },
  {
   "cell_type": "markdown",
   "id": "76b166f6-e49a-4012-8cf7-e5841cebf3a1",
   "metadata": {},
   "source": [
    "### 1. Numeric Literals"
   ]
  },
  {
   "cell_type": "code",
   "execution_count": 1,
   "id": "f36b38bd-1d60-401e-8405-db9758c36f68",
   "metadata": {},
   "outputs": [
    {
     "name": "stdout",
     "output_type": "stream",
     "text": [
      "10 100 200 300\n"
     ]
    }
   ],
   "source": [
    "# different forms of decimal\n",
    "a = 0b1010 # binary literal\n",
    "b = 100 # decimal literal (number)\n",
    "c = 0o310 # octal\n",
    "d = 0x12c # hexadecimal\n",
    "\n",
    "print(a, b, c, d);"
   ]
  },
  {
   "cell_type": "code",
   "execution_count": 13,
   "id": "b6f0a031-e0cc-4c70-9c4f-038e6d4e9e0c",
   "metadata": {},
   "outputs": [
    {
     "name": "stdout",
     "output_type": "stream",
     "text": [
      "19.5 1500.0 -5500.0 0.0008\n"
     ]
    }
   ],
   "source": [
    "# float literal\n",
    "f1 = 19.5;\n",
    "f2 = 15e2;\n",
    "f3 = -5.5e3;\n",
    "f4 = 8e-4; #small real numbers\n",
    "\n",
    "print(f1, f2, f3, f4);"
   ]
  },
  {
   "cell_type": "code",
   "execution_count": 10,
   "id": "5b095cd4-825c-404d-9e31-983a99129f81",
   "metadata": {},
   "outputs": [
    {
     "name": "stdout",
     "output_type": "stream",
     "text": [
      "4.5j (3-6j) 4.5 0.0 -6.0 3.0\n"
     ]
    }
   ],
   "source": [
    "# complex literal\n",
    "c1 = 4.5j;\n",
    "c2 = 3 - 6j;\n",
    "\n",
    "print(c1, c2, c1.imag, c1.real, c2.imag, c2.real);"
   ]
  },
  {
   "cell_type": "markdown",
   "id": "96a31632-d965-499b-ae6b-d30b7d1a75cd",
   "metadata": {},
   "source": [
    "### 2. String Literals"
   ]
  },
  {
   "cell_type": "code",
   "execution_count": 22,
   "id": "8012759b-fa10-479d-89b0-ee61885d94d3",
   "metadata": {},
   "outputs": [
    {
     "name": "stdout",
     "output_type": "stream",
     "text": [
      "hello text\n",
      "some \n",
      "text\n",
      "multiline string\n",
      "fjsal\n",
      "fskdajfjs\n",
      "some html sf text\n"
     ]
    }
   ],
   "source": [
    "str = \"hello text\";\n",
    "str2 = \"some \\ntext\";\n",
    "str3 = \"\"\"multiline string\\nfjsal\\nfskdajfjs\"\"\";\n",
    "str_raw = r\"some html sf text\";\n",
    "\n",
    "print(str);\n",
    "print(str2);\n",
    "print(str3);\n",
    "print(str_raw);"
   ]
  },
  {
   "cell_type": "markdown",
   "id": "769fd459-b9ce-4ad4-9b07-33cd82a2bdf1",
   "metadata": {},
   "source": [
    "### 3. Boolean Literals"
   ]
  },
  {
   "cell_type": "code",
   "execution_count": 23,
   "id": "b4f44933-fb05-4fb6-a13e-a4b4768708a2",
   "metadata": {},
   "outputs": [
    {
     "name": "stdout",
     "output_type": "stream",
     "text": [
      "31 65\n"
     ]
    }
   ],
   "source": [
    "b1 = True + 30; #Implicit type conversion of True to 1 and False to 0\n",
    "b2 = False + 65;\n",
    "\n",
    "print(b1, b2);"
   ]
  },
  {
   "cell_type": "markdown",
   "id": "c6042f30-dd1f-4002-8dd7-5b3b5aef4083",
   "metadata": {},
   "source": [
    "### 4. Special Literal"
   ]
  },
  {
   "cell_type": "code",
   "execution_count": 24,
   "id": "52ae7112-b2cc-4b4c-8363-a45a3b19a375",
   "metadata": {},
   "outputs": [
    {
     "name": "stdout",
     "output_type": "stream",
     "text": [
      "None\n"
     ]
    }
   ],
   "source": [
    "# None = absence of anything\n",
    "s1 = None;\n",
    "print(s1);"
   ]
  },
  {
   "cell_type": "code",
   "execution_count": null,
   "id": "74674ba3-a6a4-46f0-a161-4eea7d6db9c1",
   "metadata": {},
   "outputs": [],
   "source": []
  }
 ],
 "metadata": {
  "kernelspec": {
   "display_name": "Python 3 (ipykernel)",
   "language": "python",
   "name": "python3"
  },
  "language_info": {
   "codemirror_mode": {
    "name": "ipython",
    "version": 3
   },
   "file_extension": ".py",
   "mimetype": "text/x-python",
   "name": "python",
   "nbconvert_exporter": "python",
   "pygments_lexer": "ipython3",
   "version": "3.10.16"
  }
 },
 "nbformat": 4,
 "nbformat_minor": 5
}
