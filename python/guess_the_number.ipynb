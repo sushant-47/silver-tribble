{
 "cells": [
  {
   "cell_type": "code",
   "execution_count": 1,
   "id": "46a88692-a866-40ee-879e-93039720caa4",
   "metadata": {},
   "outputs": [],
   "source": [
    "import random;"
   ]
  },
  {
   "cell_type": "code",
   "execution_count": 13,
   "id": "9398f9e2-f027-429a-8a97-839777baeb5d",
   "metadata": {},
   "outputs": [
    {
     "name": "stdin",
     "output_type": "stream",
     "text": [
      "Enter your guess 35\n"
     ]
    },
    {
     "name": "stdout",
     "output_type": "stream",
     "text": [
      "Guess higher\n"
     ]
    },
    {
     "name": "stdin",
     "output_type": "stream",
     "text": [
      "Enter your guess 60\n"
     ]
    },
    {
     "name": "stdout",
     "output_type": "stream",
     "text": [
      "Guess higher\n"
     ]
    },
    {
     "name": "stdin",
     "output_type": "stream",
     "text": [
      "Enter your guess 80\n"
     ]
    },
    {
     "name": "stdout",
     "output_type": "stream",
     "text": [
      "Guess higher\n"
     ]
    },
    {
     "name": "stdin",
     "output_type": "stream",
     "text": [
      "Enter your guess 95\n"
     ]
    },
    {
     "name": "stdout",
     "output_type": "stream",
     "text": [
      "Guess lower\n"
     ]
    },
    {
     "name": "stdin",
     "output_type": "stream",
     "text": [
      "Enter your guess 85\n"
     ]
    },
    {
     "name": "stdout",
     "output_type": "stream",
     "text": [
      "\n",
      "Guess correct\n",
      "Attempts: 5\n"
     ]
    }
   ],
   "source": [
    "# Guess the number\n",
    "actual = random.randint(1, 100);\n",
    "guess_count = 1;\n",
    "\n",
    "def take_guess():\n",
    "    guess = input(\"Enter your guess\");\n",
    "    return int(guess);\n",
    "\n",
    "guess = take_guess();\n",
    "while guess != actual:\n",
    "    if guess < actual:\n",
    "        print(\"Guess higher\");\n",
    "    elif guess > actual:\n",
    "        print(\"Guess lower\");\n",
    "    guess = take_guess();\n",
    "    guess_count += 1;\n",
    "\n",
    "if guess == actual:\n",
    "    print(\"\\nGuess correct\");\n",
    "    print(f\"Attempts: {guess_count}\")"
   ]
  },
  {
   "cell_type": "code",
   "execution_count": null,
   "id": "bf7b032a-9622-4bb1-bcd1-288762708e35",
   "metadata": {},
   "outputs": [],
   "source": []
  }
 ],
 "metadata": {
  "kernelspec": {
   "display_name": "Python 3 (ipykernel)",
   "language": "python",
   "name": "python3"
  },
  "language_info": {
   "codemirror_mode": {
    "name": "ipython",
    "version": 3
   },
   "file_extension": ".py",
   "mimetype": "text/x-python",
   "name": "python",
   "nbconvert_exporter": "python",
   "pygments_lexer": "ipython3",
   "version": "3.10.16"
  }
 },
 "nbformat": 4,
 "nbformat_minor": 5
}
