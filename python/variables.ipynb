{
 "cells": [
  {
   "cell_type": "markdown",
   "id": "6972b902-dd32-4148-a07b-c17d32a66dfd",
   "metadata": {},
   "source": [
    "- Variables are dynamically typed in Python.\n",
    "- No variable declaration in Python.\n",
    "- Dynamic binding is applicable in Python."
   ]
  },
  {
   "cell_type": "code",
   "execution_count": 8,
   "id": "4b41795b-ebf4-45a8-b4df-7d153233928b",
   "metadata": {},
   "outputs": [
    {
     "name": "stdout",
     "output_type": "stream",
     "text": [
      "<class 'str'>\n",
      "<class 'int'>\n"
     ]
    }
   ],
   "source": [
    "x = \"some str\";\n",
    "print(type(x));\n",
    "\n",
    "x = 9;\n",
    "print(type(x));"
   ]
  },
  {
   "cell_type": "code",
   "execution_count": 12,
   "id": "fc5be53c-f042-40cd-b1ec-9633ac2134bf",
   "metadata": {},
   "outputs": [
    {
     "name": "stdout",
     "output_type": "stream",
     "text": [
      "1 2 4 5 6 10 10 10\n"
     ]
    }
   ],
   "source": [
    "# Special syntax\n",
    "a = 1; b = 2;  # Multiple variables in single line\n",
    "j,k,l = 4,5,6;\n",
    "\n",
    "r = s = t = 10;  # Same value of each variable.\n",
    "print(a, b, j, k, l, r, s, t);"
   ]
  },
  {
   "cell_type": "code",
   "execution_count": null,
   "id": "af8ae236-5816-4fcc-9faf-ed852eaa7a51",
   "metadata": {},
   "outputs": [],
   "source": []
  }
 ],
 "metadata": {
  "kernelspec": {
   "display_name": "Python 3 (ipykernel)",
   "language": "python",
   "name": "python3"
  },
  "language_info": {
   "codemirror_mode": {
    "name": "ipython",
    "version": 3
   },
   "file_extension": ".py",
   "mimetype": "text/x-python",
   "name": "python",
   "nbconvert_exporter": "python",
   "pygments_lexer": "ipython3",
   "version": "3.10.16"
  }
 },
 "nbformat": 4,
 "nbformat_minor": 5
}
